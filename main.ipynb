{
 "cells": [
  {
   "cell_type": "code",
   "execution_count": 3,
   "metadata": {},
   "outputs": [
    {
     "name": "stdout",
     "output_type": "stream",
     "text": [
      "Defaulting to user installation because normal site-packages is not writeable\n",
      "Requirement already satisfied: numpy in /home/anuj/.local/lib/python3.10/site-packages (from -r requirements.txt (line 1)) (1.26.4)\n",
      "Requirement already satisfied: pillow in /home/anuj/.local/lib/python3.10/site-packages (from -r requirements.txt (line 2)) (10.3.0)\n"
     ]
    }
   ],
   "source": [
    "!pip install -r requirements.txt\n",
    "import numpy as np"
   ]
  },
  {
   "cell_type": "code",
   "execution_count": 38,
   "metadata": {},
   "outputs": [],
   "source": [
    "from PIL import Image\n",
    "\n",
    "def save_images_as_png(images_array, prefix=\"image\"):\n",
    "    for i, image_array in enumerate(images_array):\n",
    "        # Convert the image array to PIL Image\n",
    "        image = Image.fromarray(image_array)\n",
    "        # Save the image as PNG with a sequential filename\n",
    "        filename = f\"{prefix}_{i}.png\"\n",
    "        image.save(f\"images/{filename}\")\n",
    "\n",
    "def read_images_from_binary_file(path):\n",
    "    with open(path,\"rb\") as file:\n",
    "        magic_number=file.read(4)\n",
    "        number_of_items = int.from_bytes(file.read(4), byteorder='big')\n",
    "        number_of_rows = int.from_bytes(file.read(4), byteorder='big')\n",
    "        number_of_columns = int.from_bytes(file.read(4), byteorder='big')\n",
    "        image_data=file.read()\n",
    "        size=number_of_rows*number_of_columns\n",
    "\n",
    "    images_array=np.frombuffer(image_data,dtype=np.uint8)\n",
    "    images_array = images_array.reshape((number_of_items, number_of_columns, number_of_rows))\n",
    "    return images_array\n",
    "\n",
    "def read_training_set_label_file(filename):\n",
    "    with open(filename, 'rb') as file:\n",
    "        # Read the magic number and other metadata\n",
    "        magic_number = int.from_bytes(file.read(4), byteorder='big')\n",
    "        num_labels = int.from_bytes(file.read(4), byteorder='big')\n",
    "\n",
    "        # Read the label data\n",
    "        label_data = np.frombuffer(file.read(num_labels), dtype=np.uint8)\n",
    "\n",
    "    return label_data\n",
    "\n",
    "training_data=read_images_from_binary_file(\"data/train-images.idx3-ubyte\")\n",
    "training_label=read_training_set_label_file(\"data/train-labels.idx1-ubyte\")\n",
    "testing_data=read_images_from_binary_file(\"data/t10k-images.idx3-ubyte\")\n",
    "testing_label=read_training_set_label_file(\"data/train-labels.idx1-ubyte\")\n",
    "\n"
   ]
  },
  {
   "cell_type": "code",
   "execution_count": 96,
   "metadata": {},
   "outputs": [],
   "source": [
    "learning_rate=1\n",
    "def sigmoid(x):\n",
    "    return 1 / (1 + np.exp(-x))\n",
    "\n",
    "def sigmoid_derivative(x):\n",
    "    sigmoid_x = sigmoid(x)\n",
    "    return sigmoid_x * (1 - sigmoid_x)\n",
    "\n",
    "class Layer:\n",
    "    def __init__(self, Values):\n",
    "      self.values = Values\n",
    "      self.zvalues= None\n",
    "      self.weights = None\n",
    "      self.biases = None\n",
    "      self.delta_weights= None\n",
    "      self.delta_biases = None\n",
    "      self.next_layer=None\n",
    "      self.previous_layer=None\n",
    "      \n",
    "    def nextLayer(self,nodes):\n",
    "      if nodes!=0:\n",
    "         self.weights = np.random.rand(self.values.size, nodes) * 0.01\n",
    "         self.biases = np.random.rand(nodes) * 0.01\n",
    "         self.delta_weights = np.random.rand(self.values.size, nodes)\n",
    "         self.delta_biases = np.random.rand(nodes)\n",
    "\n",
    "      values= np.dot(self.values.reshape(1, self.values.size),self.weights).flatten() + self.biases\n",
    "      zvalues=values\n",
    "      for i,value in enumerate(values):\n",
    "         value=sigmoid(value)\n",
    "         values[i]=value\n",
    "\n",
    "      layer=Layer(values)\n",
    "      self.next_layer=layer\n",
    "      layer.zvalues=zvalues\n",
    "      layer.previous_layer=self\n",
    "      return layer\n",
    "    \n",
    "    def forward(self,image):\n",
    "      layer=self\n",
    "      layer.values=image\n",
    "      while layer.next_layer!=None:\n",
    "        zvalues=np.dot(layer.values.reshape(1, layer.values.size),layer.weights).flatten() +layer.biases\n",
    "        layer.next_layer.zvalues=zvalues\n",
    "        for i,value in enumerate(zvalues):\n",
    "            zvalues[i]=sigmoid(value)\n",
    "        layer.next_layer.values=zvalues\n",
    "        layer=layer.next_layer\n",
    "\n",
    "    def backward(self):\n",
    "      ...\n",
    "          \n",
    "    \n",
    "    def __repr__(self):\n",
    "      return f\"Layer(values={self.values})\"\n",
    "\n",
    "    "
   ]
  },
  {
   "cell_type": "code",
   "execution_count": 97,
   "metadata": {},
   "outputs": [
    {
     "name": "stdout",
     "output_type": "stream",
     "text": [
      "[0.60739601 0.59786503 0.61625052 0.60589736 0.60554283 0.60827028\n",
      " 0.60266673 0.60564227 0.61168988 0.59324139]\n",
      "[0.60739601 0.59786503 0.61625052 0.60589736 0.60554283 0.60827028\n",
      " 0.60266673 0.60564227 0.61168988 0.59324139]\n"
     ]
    }
   ],
   "source": [
    "def costFunction(actual, expectation):\n",
    "    cost=None\n",
    "    for i, value in enumerate(actual):\n",
    "        cost=cost+(value-expectation[i])**2\n",
    "    return cost\n",
    "\n",
    "\n",
    "sample_image=training_data[0]\n",
    "first_layer=Layer(sample_image)\n",
    "second_layer=first_layer.nextLayer(300)\n",
    "third_layer=second_layer.nextLayer(100)\n",
    "fourth_layer=third_layer.nextLayer(10)\n",
    "first_layer.forward(training_data[0])"
   ]
  }
 ],
 "metadata": {
  "kernelspec": {
   "display_name": "Python 3",
   "language": "python",
   "name": "python3"
  },
  "language_info": {
   "codemirror_mode": {
    "name": "ipython",
    "version": 3
   },
   "file_extension": ".py",
   "mimetype": "text/x-python",
   "name": "python",
   "nbconvert_exporter": "python",
   "pygments_lexer": "ipython3",
   "version": "3.10.12"
  }
 },
 "nbformat": 4,
 "nbformat_minor": 2
}

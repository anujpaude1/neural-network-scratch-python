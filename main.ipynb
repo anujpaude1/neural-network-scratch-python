{
 "cells": [
  {
   "cell_type": "code",
   "execution_count": 1,
   "metadata": {},
   "outputs": [
    {
     "name": "stdout",
     "output_type": "stream",
     "text": [
      "Defaulting to user installation because normal site-packages is not writeable\n",
      "Requirement already satisfied: numpy in /home/anuj/.local/lib/python3.10/site-packages (from -r requirements.txt (line 1)) (1.26.4)\n",
      "Collecting pillow\n",
      "  Downloading pillow-10.3.0-cp310-cp310-manylinux_2_28_x86_64.whl (4.5 MB)\n",
      "\u001b[2K     \u001b[90m━━━━━━━━━━━━━━━━━━━━━━━━━━━━━━━━━━━━━━━━\u001b[0m \u001b[32m4.5/4.5 MB\u001b[0m \u001b[31m115.8 kB/s\u001b[0m eta \u001b[36m0:00:00\u001b[0m00:01\u001b[0m00:02\u001b[0m\n",
      "\u001b[?25hInstalling collected packages: pillow\n",
      "Successfully installed pillow-10.3.0\n"
     ]
    }
   ],
   "source": [
    "!pip install -r requirements.txt\n",
    "import numpy as np"
   ]
  },
  {
   "cell_type": "code",
   "execution_count": 6,
   "metadata": {},
   "outputs": [],
   "source": [
    "from PIL import Image\n",
    "\n",
    "def save_images_as_png(images_array, prefix=\"image\"):\n",
    "    for i, image_array in enumerate(images_array):\n",
    "        # Convert the image array to PIL Image\n",
    "        image = Image.fromarray(image_array)\n",
    "        # Save the image as PNG with a sequential filename\n",
    "        filename = f\"{prefix}_{i}.png\"\n",
    "        image.save(f\"images/{filename}\")\n",
    "\n",
    "def read_images_from_binary_file(path):\n",
    "    with open(path,\"rb\") as file:\n",
    "        magic_number=file.read(4)\n",
    "        number_of_items = int.from_bytes(file.read(4), byteorder='big')\n",
    "        number_of_rows = int.from_bytes(file.read(4), byteorder='big')\n",
    "        number_of_columns = int.from_bytes(file.read(4), byteorder='big')\n",
    "        image_data=file.read()\n",
    "        size=number_of_rows*number_of_columns\n",
    "\n",
    "    images_array=np.frombuffer(image_data,dtype=np.uint8)\n",
    "    images_array = images_array.reshape((number_of_items, number_of_columns, number_of_rows))\n",
    "    return images_array\n",
    "\n",
    "def read_training_set_label_file(filename):\n",
    "    with open(filename, 'rb') as file:\n",
    "        # Read the magic number and other metadata\n",
    "        magic_number = int.from_bytes(file.read(4), byteorder='big')\n",
    "        num_labels = int.from_bytes(file.read(4), byteorder='big')\n",
    "\n",
    "        # Read the label data\n",
    "        label_data = np.frombuffer(file.read(num_labels), dtype=np.uint8)\n",
    "\n",
    "    return label_data\n",
    "\n",
    "training_data=read_images_from_binary_file(\"data/train-images.idx3-ubyte\")\n",
    "training_label=read_training_set_label_file(\"data/train-labels.idx1-ubyte\")\n",
    "testing_data=read_images_from_binary_file(\"data/t10k-images.idx3-ubyte\")\n",
    "testing_label=read_training_set_label_file(\"data/train-labels.idx1-ubyte\")\n",
    "\n"
   ]
  },
  {
   "cell_type": "code",
   "execution_count": null,
   "metadata": {},
   "outputs": [],
   "source": [
    "class Layer:\n",
    "    def __init__(self, current_layer_nodes, next_layer_nodes,previous_layer, Values):\n",
    "      if next_layer_nodes != 0:\n",
    "        self.weights = np.random.rand(current_layer_nodes, next_layer_nodes)\n",
    "        self.biases = np.random.rand(next_layer_nodes)\n",
    "      self.values = Values\n",
    "      self.next_layer=None\n",
    "      self.previous_layer=previous_layer\n",
    "      \n",
    "    def nextLayer(self,next_next_layer_nodes):\n",
    "      values=np.cross(self.values,self.weights) + self.biases\n",
    "      layer=Layer(self.next_layer,next_next_layer_nodes,self,values)\n",
    "      self.next_layer=layer\n",
    "      return layer\n",
    "    \n",
    "\n",
    "\n",
    "\n",
    "\n"
   ]
  }
 ],
 "metadata": {
  "kernelspec": {
   "display_name": "Python 3",
   "language": "python",
   "name": "python3"
  },
  "language_info": {
   "codemirror_mode": {
    "name": "ipython",
    "version": 3
   },
   "file_extension": ".py",
   "mimetype": "text/x-python",
   "name": "python",
   "nbconvert_exporter": "python",
   "pygments_lexer": "ipython3",
   "version": "3.10.12"
  }
 },
 "nbformat": 4,
 "nbformat_minor": 2
}
